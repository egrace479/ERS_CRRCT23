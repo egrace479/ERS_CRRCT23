{
 "cells": [
  {
   "cell_type": "code",
   "execution_count": 1,
   "id": "089c060f",
   "metadata": {},
   "outputs": [],
   "source": [
    "# !pip install -q kaggle"
   ]
  },
  {
   "cell_type": "code",
   "execution_count": 2,
   "id": "453bdfa3",
   "metadata": {},
   "outputs": [],
   "source": [
    "# !mkdir ~/.kaggle"
   ]
  },
  {
   "cell_type": "code",
   "execution_count": 3,
   "id": "100727e6",
   "metadata": {},
   "outputs": [],
   "source": [
    "# !touch ~/.kaggle/kaggle.json"
   ]
  },
  {
   "cell_type": "code",
   "execution_count": 4,
   "id": "5b5b6a6b",
   "metadata": {},
   "outputs": [],
   "source": [
    "# !kaggle competitions download -c histopathologic-cancer-detection"
   ]
  },
  {
   "cell_type": "code",
   "execution_count": 5,
   "id": "76401ec0",
   "metadata": {},
   "outputs": [],
   "source": [
    "#!pip install torchvision"
   ]
  },
  {
   "cell_type": "code",
   "execution_count": 6,
   "id": "b88fcde1",
   "metadata": {},
   "outputs": [],
   "source": [
    "#!pip install --upgrade torch torchvision"
   ]
  },
  {
   "cell_type": "code",
   "execution_count": 7,
   "id": "9dbe2ebb",
   "metadata": {},
   "outputs": [],
   "source": [
    "#!pip install scikit-learn"
   ]
  },
  {
   "cell_type": "code",
   "execution_count": 8,
   "id": "1dc31f00",
   "metadata": {},
   "outputs": [],
   "source": [
    "#!pip install tqdm"
   ]
  },
  {
   "cell_type": "code",
   "execution_count": 9,
   "id": "db2808ed",
   "metadata": {},
   "outputs": [],
   "source": [
    "#!pip3 install torchvision "
   ]
  },
  {
   "cell_type": "code",
   "execution_count": 70,
   "id": "00758da4",
   "metadata": {},
   "outputs": [],
   "source": [
    "import os\n",
    "import re\n",
    "import pandas as pd\n",
    "import numpy as np\n",
    "import torch\n",
    "from torch import nn\n",
    "from tqdm.notebook import tqdm\n",
    "from torchvision import datasets, transforms, models\n",
    "from torch import optim\n",
    "from torch.utils.data import DataLoader\n",
    "from sklearn import preprocessing\n",
    "\n",
    "import numpy as np\n",
    "import pandas as pd\n",
    "import os\n",
    "import scipy.ndimage as ndi\n",
    "import shutil"
   ]
  },
  {
   "cell_type": "code",
   "execution_count": 71,
   "id": "4c618e46",
   "metadata": {},
   "outputs": [],
   "source": [
    "import os\n",
    "import re\n",
    "import pandas as pd\n",
    "import numpy as np\n",
    "import torch\n",
    "from torch import nn\n",
    "from tqdm.notebook import tqdm\n",
    "# import torchio as tio\n",
    "# from torchio import AFFINE, DATA\n",
    "from torchvision import datasets, transforms, models\n",
    "from torch import optim\n",
    "from torch.utils.data import DataLoader\n",
    "from sklearn import preprocessing\n",
    "\n",
    "import numpy as np\n",
    "import pandas as pd\n",
    "import os\n",
    "import scipy.ndimage as ndi\n",
    "import shutil\n",
    "\n",
    "import pennylane as qml\n",
    "from pennylane import numpy as np\n",
    "\n",
    "torch.manual_seed(42)\n",
    "np.random.seed(42)\n"
   ]
  },
  {
   "cell_type": "code",
   "execution_count": 72,
   "id": "d78fc989",
   "metadata": {},
   "outputs": [],
   "source": [
    "import time\n",
    "n_qubits = 4                # Number of qubits\n",
    "step = 0.000004               # Learning rate\n",
    "batch_size = 8              # Number of samples for each training step\n",
    "num_epochs = 25              # Number of training epochs\n",
    "q_depth = 1                 # Depth of the quantum circuit (number of variational layers)\n",
    "gamma_lr_scheduler = 0.1    # Learning rate reduction applied every 10 epochs.\n",
    "q_delta = 0.01              # Initial spread of random quantum weights\n",
    "start_time = time.time()    # Start of the computation timer"
   ]
  },
  {
   "cell_type": "code",
   "execution_count": 73,
   "id": "e1cc2787",
   "metadata": {},
   "outputs": [
    {
     "data": {
      "text/plain": [
       "<BraketAwsQubitDevice device (wires=4, shots=None) at 0x7f0e9efafd90>"
      ]
     },
     "execution_count": 73,
     "metadata": {},
     "output_type": "execute_result"
    }
   ],
   "source": [
    "device_arn = \"arn:aws:braket:::device/quantum-simulator/amazon/sv1\"\n",
    "dev = qml.device('braket.aws.qubit', device_arn=device_arn, wires=n_qubits)\n",
    "dev"
   ]
  },
  {
   "cell_type": "code",
   "execution_count": 74,
   "id": "a161713d",
   "metadata": {},
   "outputs": [],
   "source": [
    "#!pip install sagemaker"
   ]
  },
  {
   "cell_type": "code",
   "execution_count": 75,
   "id": "5a094355",
   "metadata": {},
   "outputs": [],
   "source": [
    "#!pip3 install s3fs "
   ]
  },
  {
   "cell_type": "code",
   "execution_count": 76,
   "id": "65c76fa6",
   "metadata": {},
   "outputs": [],
   "source": [
    "#%pip install --upgrade boto3"
   ]
  },
  {
   "cell_type": "code",
   "execution_count": 77,
   "id": "1a952ff0",
   "metadata": {
    "scrolled": true
   },
   "outputs": [],
   "source": [
    "import boto3\n",
    "import pandas as pd\n",
    "from sagemaker import get_execution_role"
   ]
  },
  {
   "cell_type": "code",
   "execution_count": 78,
   "id": "b0b484ec",
   "metadata": {},
   "outputs": [
    {
     "data": {
      "text/html": [
       "<div>\n",
       "<style scoped>\n",
       "    .dataframe tbody tr th:only-of-type {\n",
       "        vertical-align: middle;\n",
       "    }\n",
       "\n",
       "    .dataframe tbody tr th {\n",
       "        vertical-align: top;\n",
       "    }\n",
       "\n",
       "    .dataframe thead th {\n",
       "        text-align: right;\n",
       "    }\n",
       "</style>\n",
       "<table border=\"1\" class=\"dataframe\">\n",
       "  <thead>\n",
       "    <tr style=\"text-align: right;\">\n",
       "      <th></th>\n",
       "      <th>id</th>\n",
       "      <th>label</th>\n",
       "    </tr>\n",
       "  </thead>\n",
       "  <tbody>\n",
       "    <tr>\n",
       "      <th>0</th>\n",
       "      <td>f38a6374c348f90b587e046aac6079959adf3835</td>\n",
       "      <td>0</td>\n",
       "    </tr>\n",
       "    <tr>\n",
       "      <th>1</th>\n",
       "      <td>c18f2d887b7ae4f6742ee445113fa1aef383ed77</td>\n",
       "      <td>1</td>\n",
       "    </tr>\n",
       "    <tr>\n",
       "      <th>2</th>\n",
       "      <td>755db6279dae599ebb4d39a9123cce439965282d</td>\n",
       "      <td>0</td>\n",
       "    </tr>\n",
       "    <tr>\n",
       "      <th>3</th>\n",
       "      <td>bc3f0c64fb968ff4a8bd33af6971ecae77c75e08</td>\n",
       "      <td>0</td>\n",
       "    </tr>\n",
       "    <tr>\n",
       "      <th>4</th>\n",
       "      <td>068aba587a4950175d04c680d38943fd488d6a9d</td>\n",
       "      <td>0</td>\n",
       "    </tr>\n",
       "  </tbody>\n",
       "</table>\n",
       "</div>"
      ],
      "text/plain": [
       "                                         id  label\n",
       "0  f38a6374c348f90b587e046aac6079959adf3835      0\n",
       "1  c18f2d887b7ae4f6742ee445113fa1aef383ed77      1\n",
       "2  755db6279dae599ebb4d39a9123cce439965282d      0\n",
       "3  bc3f0c64fb968ff4a8bd33af6971ecae77c75e08      0\n",
       "4  068aba587a4950175d04c680d38943fd488d6a9d      0"
      ]
     },
     "execution_count": 78,
     "metadata": {},
     "output_type": "execute_result"
    }
   ],
   "source": [
    "bucket='kaggle-cancer-dataset'\n",
    "data_key = 'train_labels.csv'\n",
    "s3 = boto3.client('s3')\n",
    "obj = s3.get_object(Bucket=bucket, Key=data_key)\n",
    "#s3://kaggle-cancer-dataset/train_labels.csv\n",
    "\n",
    "train_data = pd.read_csv(obj['Body'])\n",
    "train_data.head()"
   ]
  },
  {
   "cell_type": "code",
   "execution_count": 79,
   "id": "0e1f9ccd",
   "metadata": {},
   "outputs": [
    {
     "name": "stdout",
     "output_type": "stream",
     "text": [
      "[['f38a6374c348f90b587e046aac6079959adf3835' 0]\n",
      " ['c18f2d887b7ae4f6742ee445113fa1aef383ed77' 1]\n",
      " ['755db6279dae599ebb4d39a9123cce439965282d' 0]\n",
      " ['bc3f0c64fb968ff4a8bd33af6971ecae77c75e08' 0]\n",
      " ['068aba587a4950175d04c680d38943fd488d6a9d' 0]]\n"
     ]
    }
   ],
   "source": [
    "train_data_numpy = train_data.values\n",
    "print(train_data_numpy[0:5])"
   ]
  },
  {
   "cell_type": "code",
   "execution_count": 80,
   "id": "27229156",
   "metadata": {},
   "outputs": [],
   "source": [
    "from sklearn.model_selection import train_test_split\n",
    "data_train, data_val= train_test_split(train_data_numpy, test_size = 0.25, random_state=42,stratify=train_data_numpy[:,1])"
   ]
  },
  {
   "cell_type": "code",
   "execution_count": 81,
   "id": "644bb4a8",
   "metadata": {},
   "outputs": [
    {
     "name": "stdout",
     "output_type": "stream",
     "text": [
      "220025\n",
      "165018\n",
      "55007\n"
     ]
    }
   ],
   "source": [
    "print(len(train_data_numpy))\n",
    "print(len(data_train))\n",
    "print(len(data_val))"
   ]
  },
  {
   "cell_type": "code",
   "execution_count": 82,
   "id": "7ea0a385",
   "metadata": {},
   "outputs": [
    {
     "name": "stdout",
     "output_type": "stream",
     "text": [
      "(96, 96, 3)\n"
     ]
    },
    {
     "data": {
      "image/png": "[encoded data removed]",
      "text/plain": [
       "<Figure size 640x480 with 1 Axes>"
      ]
     },
     "metadata": {},
     "output_type": "display_data"
    }
   ],
   "source": [
    "from PIL import Image\n",
    "import matplotlib.pyplot as plt\n",
    "bucket1 = 'kaggle-cancer-dataset'\n",
    "key1 = \"train/00001b2b5609af42ab0ab276dd4cd41c3e7745b5.tif\"\n",
    "obj = s3.get_object(Bucket=bucket1, Key=key1)\n",
    "\n",
    "image_array = Image.open(obj['Body'])\n",
    "numpy_array = np.asarray(image_array)\n",
    "print(numpy_array.shape)\n",
    "plt.imshow(image_array)\n",
    "plt.show()"
   ]
  },
  {
   "cell_type": "code",
   "execution_count": 83,
   "id": "fbeb626c",
   "metadata": {},
   "outputs": [
    {
     "data": {
      "text/html": [
       "<div>\n",
       "<style scoped>\n",
       "    .dataframe tbody tr th:only-of-type {\n",
       "        vertical-align: middle;\n",
       "    }\n",
       "\n",
       "    .dataframe tbody tr th {\n",
       "        vertical-align: top;\n",
       "    }\n",
       "\n",
       "    .dataframe thead th {\n",
       "        text-align: right;\n",
       "    }\n",
       "</style>\n",
       "<table border=\"1\" class=\"dataframe\">\n",
       "  <thead>\n",
       "    <tr style=\"text-align: right;\">\n",
       "      <th></th>\n",
       "      <th>id</th>\n",
       "      <th>label</th>\n",
       "    </tr>\n",
       "  </thead>\n",
       "  <tbody>\n",
       "    <tr>\n",
       "      <th>0</th>\n",
       "      <td>8df301c4ad7d43129fc71a0d20bc4d9dcda9784d</td>\n",
       "      <td>0</td>\n",
       "    </tr>\n",
       "    <tr>\n",
       "      <th>1</th>\n",
       "      <td>1bf89407709c983c5adce3817c3e282b3f5aeeb8</td>\n",
       "      <td>1</td>\n",
       "    </tr>\n",
       "    <tr>\n",
       "      <th>2</th>\n",
       "      <td>7f7c3615a5cc5d2344547b42a8e11da72438df29</td>\n",
       "      <td>0</td>\n",
       "    </tr>\n",
       "    <tr>\n",
       "      <th>3</th>\n",
       "      <td>bfeb523231e132e6c2bcddd3092c92441d945a8b</td>\n",
       "      <td>0</td>\n",
       "    </tr>\n",
       "    <tr>\n",
       "      <th>4</th>\n",
       "      <td>2e6a00a31191eb31ec82fc9ebfe316857258ba0d</td>\n",
       "      <td>1</td>\n",
       "    </tr>\n",
       "  </tbody>\n",
       "</table>\n",
       "</div>"
      ],
      "text/plain": [
       "                                         id label\n",
       "0  8df301c4ad7d43129fc71a0d20bc4d9dcda9784d     0\n",
       "1  1bf89407709c983c5adce3817c3e282b3f5aeeb8     1\n",
       "2  7f7c3615a5cc5d2344547b42a8e11da72438df29     0\n",
       "3  bfeb523231e132e6c2bcddd3092c92441d945a8b     0\n",
       "4  2e6a00a31191eb31ec82fc9ebfe316857258ba0d     1"
      ]
     },
     "execution_count": 83,
     "metadata": {},
     "output_type": "execute_result"
    }
   ],
   "source": [
    "df_train = pd.DataFrame(data_train,columns=[\"id\",\"label\"])\n",
    "df_train.head()"
   ]
  },
  {
   "cell_type": "code",
   "execution_count": 84,
   "id": "9dfa2d48",
   "metadata": {},
   "outputs": [
    {
     "data": {
      "text/html": [
       "<div>\n",
       "<style scoped>\n",
       "    .dataframe tbody tr th:only-of-type {\n",
       "        vertical-align: middle;\n",
       "    }\n",
       "\n",
       "    .dataframe tbody tr th {\n",
       "        vertical-align: top;\n",
       "    }\n",
       "\n",
       "    .dataframe thead th {\n",
       "        text-align: right;\n",
       "    }\n",
       "</style>\n",
       "<table border=\"1\" class=\"dataframe\">\n",
       "  <thead>\n",
       "    <tr style=\"text-align: right;\">\n",
       "      <th></th>\n",
       "      <th>id</th>\n",
       "      <th>label</th>\n",
       "    </tr>\n",
       "  </thead>\n",
       "  <tbody>\n",
       "    <tr>\n",
       "      <th>0</th>\n",
       "      <td>e1891b5f3d318cbe4113967df5bd84c2daa50821</td>\n",
       "      <td>0</td>\n",
       "    </tr>\n",
       "    <tr>\n",
       "      <th>1</th>\n",
       "      <td>2d0ead94b22d68fdcea6675d05e77eb1bf332cad</td>\n",
       "      <td>0</td>\n",
       "    </tr>\n",
       "    <tr>\n",
       "      <th>2</th>\n",
       "      <td>c2fb3601e594459fb7622729121628b90962fd0b</td>\n",
       "      <td>0</td>\n",
       "    </tr>\n",
       "    <tr>\n",
       "      <th>3</th>\n",
       "      <td>3e54b88196229d3c39a52eb77657f25119e53b42</td>\n",
       "      <td>1</td>\n",
       "    </tr>\n",
       "    <tr>\n",
       "      <th>4</th>\n",
       "      <td>c67dd4fb6906aa79e3c8b7a9dd7732f2fad8ef22</td>\n",
       "      <td>0</td>\n",
       "    </tr>\n",
       "  </tbody>\n",
       "</table>\n",
       "</div>"
      ],
      "text/plain": [
       "                                         id label\n",
       "0  e1891b5f3d318cbe4113967df5bd84c2daa50821     0\n",
       "1  2d0ead94b22d68fdcea6675d05e77eb1bf332cad     0\n",
       "2  c2fb3601e594459fb7622729121628b90962fd0b     0\n",
       "3  3e54b88196229d3c39a52eb77657f25119e53b42     1\n",
       "4  c67dd4fb6906aa79e3c8b7a9dd7732f2fad8ef22     0"
      ]
     },
     "execution_count": 84,
     "metadata": {},
     "output_type": "execute_result"
    }
   ],
   "source": [
    "df_val = pd.DataFrame(data_val,columns=[\"id\",\"label\"])\n",
    "df_val.head()"
   ]
  },
  {
   "cell_type": "code",
   "execution_count": 85,
   "id": "38890069",
   "metadata": {},
   "outputs": [],
   "source": [
    "df_train.to_csv('train_data_new.csv',index=False,header=False)\n",
    "df_val.to_csv('val_data_new.csv',index=False,header=False)"
   ]
  },
  {
   "cell_type": "code",
   "execution_count": 86,
   "id": "b82baa71",
   "metadata": {},
   "outputs": [],
   "source": [
    "# Send these file to s3 using terminal\n",
    "#https://www.middlewareinventory.com/blog/ec2-s3-copy/ -> commands"
   ]
  },
  {
   "cell_type": "code",
   "execution_count": 87,
   "id": "fa25f619",
   "metadata": {},
   "outputs": [],
   "source": [
    "from sagemaker.debugger import Rule, rule_configs\n",
    "from sagemaker.session import TrainingInput\n",
    "from torch.utils.data import Dataset, DataLoader\n",
    "from torchvision import transforms, utils\n",
    "\n",
    "class Cancerclass(Dataset):\n",
    "    def __init__(self,csv_data,root_dir,key,transform=None):\n",
    "        self.bucket_name = root_dir\n",
    "        self.key = key\n",
    "        self.transform = transform\n",
    "        self.data = csv_data\n",
    "\n",
    "    def __len__(self):\n",
    "        return len(self.data)\n",
    "\n",
    "    def __getitem__(self,idx):\n",
    "        filename = str(self.data[idx][0])\n",
    "        bucket1 = self.bucket_name\n",
    "        key1 = self.key +\"/\" + filename + '.tif'\n",
    "        obj = s3.get_object(Bucket=bucket1, Key=key1)\n",
    "\n",
    "        image_array = Image.open(obj['Body'])\n",
    "        image_array1 = image_array\n",
    "\n",
    "        del image_array\n",
    "       \n",
    "        label = int(self.data[idx][1])\n",
    "\n",
    "        if self.transform:\n",
    "            tensor_image = self.transform(image_array1)\n",
    "\n",
    "        return tensor_image,label"
   ]
  },
  {
   "cell_type": "code",
   "execution_count": 88,
   "id": "383033c2",
   "metadata": {},
   "outputs": [],
   "source": [
    "def init_weights(m):\n",
    "    if isinstance(m, nn.Linear):\n",
    "        torch.nn.init.xavier_uniform(m.weight)\n",
    "        m.bias.data.fill_(0.01)"
   ]
  },
  {
   "cell_type": "code",
   "execution_count": 89,
   "id": "c12ea257",
   "metadata": {},
   "outputs": [
    {
     "name": "stdout",
     "output_type": "stream",
     "text": [
      "cpu\n"
     ]
    }
   ],
   "source": [
    "device = torch.device(\"cuda:0\" if torch.cuda.is_available() else \"cpu\")\n",
    "print(device)"
   ]
  },
  {
   "cell_type": "code",
   "execution_count": 90,
   "id": "451430a3",
   "metadata": {},
   "outputs": [],
   "source": [
    "def H_layer(nqubits):\n",
    "    \"\"\"Layer of single-qubit Hadamard gates.\n",
    "    \"\"\"\n",
    "    for idx in range(nqubits):\n",
    "        qml.Hadamard(wires=idx)\n",
    "\n",
    "\n",
    "def RY_layer(w):\n",
    "    \"\"\"Layer of parametrized qubit rotations around the y axis.\n",
    "    \"\"\"\n",
    "    for idx, element in enumerate(w):\n",
    "        qml.RY(element, wires=idx)\n",
    "\n",
    "def U_layer(w):\n",
    "    \"\"\"Layer of parametrized qubit rotations around the y axis.\n",
    "    \"\"\"\n",
    "    for idx, element in enumerate(w):\n",
    "        qml.U3(element[0],element[1],element[2],wires=idx)\n",
    "        \n",
    "def entangling_layer1(nqubits):\n",
    "    qml.CNOT(wires=[0,1])\n",
    "    qml.CNOT(wires=[2,3])\n",
    "    qml.CNOT(wires=[1,2])\n",
    "    qml.CNOT(wires=[0,3])\n",
    "\n",
    "def entangling_layer(nqubits):\n",
    "    \"\"\"Layer of CNOTs followed by another shifted layer of CNOT.\n",
    "    \"\"\"\n",
    "    # In other words it should apply something like :\n",
    "    # CNOT  CNOT  CNOT  CNOT...  CNOT\n",
    "    #   CNOT  CNOT  CNOT...  CNOT\n",
    "    for i in range(0, nqubits - 1, 2):  # Loop over even indices: i=0,2,...N-2\n",
    "        qml.CNOT(wires=[i, i + 1])\n",
    "    for i in range(1, nqubits - 1, 2):  # Loop over odd indices:  i=1,3,...N-3\n",
    "        qml.CNOT(wires=[i, i + 1])"
   ]
  },
  {
   "cell_type": "code",
   "execution_count": 91,
   "id": "4b0256fd",
   "metadata": {},
   "outputs": [],
   "source": [
    "@qml.qnode(dev, interface=\"torch\")\n",
    "def quantum_net(q_input_features, q_weights_flat):\n",
    "    \"\"\"\n",
    "    The variational quantum circuit.\n",
    "    \"\"\"\n",
    "\n",
    "    # Reshape weights\n",
    "    q_weights = q_weights_flat\n",
    "\n",
    "    # Start from state |+> , unbiased w.r.t. |0> and |1>\n",
    "    H_layer(n_qubits)\n",
    "\n",
    "    # Embed features in the quantum node\n",
    "    RY_layer(q_input_features)\n",
    "\n",
    "    # # # Sequence of trainable variational layers\n",
    "    entangling_layer1(4)\n",
    "    U_layer([[q_weights[0],q_weights[1],q_weights[2]],[q_weights[3],q_weights[4],q_weights[5]],[q_weights[6],q_weights[7],q_weights[8]],[q_weights[9],q_weights[10],q_weights[11]]])\n",
    "    \n",
    "    entangling_layer1(4)\n",
    "    U_layer([[q_weights[12],q_weights[13],q_weights[14]],[q_weights[15],q_weights[16],q_weights[17]],[q_weights[18],q_weights[19],q_weights[20]],[q_weights[21],q_weights[22],q_weights[23]]])\n",
    "    \n",
    "    entangling_layer1(4)\n",
    "    U_layer([[q_weights[24],q_weights[25],q_weights[26]],[q_weights[27],q_weights[28],q_weights[29]],[q_weights[30],q_weights[31],q_weights[32]],[q_weights[33],q_weights[34],q_weights[35]]])\n",
    "    \n",
    "    qml.CNOT(wires=[0,1])\n",
    "    qml.CNOT(wires=[2,3])\n",
    "    qml.CNOT(wires=[1,2])\n",
    "    qml.CNOT(wires=[3,0])\n",
    "    \n",
    "    qml.RZ(q_weights[36],wires=0)\n",
    "    qml.RZ(q_weights[37],wires=1)\n",
    "    qml.RZ(q_weights[38],wires=2)\n",
    "    qml.RZ(q_weights[39],wires=3)\n",
    "    \n",
    "    exp_vals = [qml.expval(qml.PauliZ(position)) for position in range(n_qubits)]\n",
    "    return tuple(exp_vals)"
   ]
  },
  {
   "cell_type": "code",
   "execution_count": 92,
   "id": "a7844dd5",
   "metadata": {},
   "outputs": [],
   "source": [
    "class DressedQuantumNet(nn.Module):\n",
    "    \"\"\"\n",
    "    Torch module implementing the *dressed* quantum net.\n",
    "    \"\"\"\n",
    "\n",
    "    def __init__(self):\n",
    "        \"\"\"\n",
    "        Definition of the *dressed* layout.\n",
    "        \"\"\"\n",
    "\n",
    "        super().__init__()\n",
    "        self.pre_net = nn.Linear(512, n_qubits)\n",
    "        self.q_params = nn.Parameter(q_delta * torch.rand(40)) # 2 for QAOA //rand\n",
    "        self.post_net = nn.Linear(n_qubits, 2)\n",
    "\n",
    "    def forward(self, input_features):\n",
    "        \"\"\"\n",
    "        Defining how tensors are supposed to move through the *dressed* quantum\n",
    "        net.\n",
    "        \"\"\"\n",
    "\n",
    "        # obtain the input features for the quantum circuit\n",
    "        # by reducing the feature dimension from 512 to 4\n",
    "        pre_out = self.pre_net(input_features)\n",
    "        q_in = torch.tanh(pre_out) * np.pi / 2.0\n",
    "\n",
    "        # Apply the quantum circuit to each element of the batch and append to q_out\n",
    "        q_out = torch.Tensor(0, n_qubits)\n",
    "        q_out = q_out.to(device)\n",
    "        for elem in q_in:\n",
    "            q_out_elem = quantum_net(elem, self.q_params).float().unsqueeze(0)\n",
    "            q_out = torch.cat((q_out, q_out_elem))\n",
    "\n",
    "        # return the two-dimensional prediction from the postprocessing layer\n",
    "        return self.post_net(q_out)"
   ]
  },
  {
   "cell_type": "code",
   "execution_count": 93,
   "id": "b7c6a069",
   "metadata": {},
   "outputs": [
    {
     "name": "stderr",
     "output_type": "stream",
     "text": [
      "/home/ec2-user/anaconda3/envs/Braket/lib/python3.7/site-packages/torchvision/models/_utils.py:209: UserWarning: The parameter 'pretrained' is deprecated since 0.13 and may be removed in the future, please use 'weights' instead.\n",
      "  f\"The parameter '{pretrained_param}' is deprecated since 0.13 and may be removed in the future, \"\n",
      "/home/ec2-user/anaconda3/envs/Braket/lib/python3.7/site-packages/torchvision/models/_utils.py:223: UserWarning: Arguments other than a weight enum or `None` for 'weights' are deprecated since 0.13 and may be removed in the future. The current behavior is equivalent to passing `weights=ResNet18_Weights.IMAGENET1K_V1`. You can also use `weights=ResNet18_Weights.DEFAULT` to get the most up-to-date weights.\n",
      "  warnings.warn(msg)\n"
     ]
    }
   ],
   "source": [
    "model_hybrid = models.resnet18(pretrained=True)\n",
    "model_hybrid.fc = DressedQuantumNet()\n",
    "model_hybrid = model_hybrid.to(device)"
   ]
  },
  {
   "cell_type": "code",
   "execution_count": 94,
   "id": "4589d65c",
   "metadata": {},
   "outputs": [
    {
     "name": "stderr",
     "output_type": "stream",
     "text": [
      "/home/ec2-user/anaconda3/envs/Braket/lib/python3.7/site-packages/ipykernel/__main__.py:3: UserWarning: nn.init.xavier_uniform is now deprecated in favor of nn.init.xavier_uniform_.\n",
      "  app.launch_new_instance()\n"
     ]
    },
    {
     "data": {
      "text/plain": [
       "ResNet(\n",
       "  (conv1): Conv2d(3, 64, kernel_size=(7, 7), stride=(2, 2), padding=(3, 3), bias=False)\n",
       "  (bn1): BatchNorm2d(64, eps=1e-05, momentum=0.1, affine=True, track_running_stats=True)\n",
       "  (relu): ReLU(inplace=True)\n",
       "  (maxpool): MaxPool2d(kernel_size=3, stride=2, padding=1, dilation=1, ceil_mode=False)\n",
       "  (layer1): Sequential(\n",
       "    (0): BasicBlock(\n",
       "      (conv1): Conv2d(64, 64, kernel_size=(3, 3), stride=(1, 1), padding=(1, 1), bias=False)\n",
       "      (bn1): BatchNorm2d(64, eps=1e-05, momentum=0.1, affine=True, track_running_stats=True)\n",
       "      (relu): ReLU(inplace=True)\n",
       "      (conv2): Conv2d(64, 64, kernel_size=(3, 3), stride=(1, 1), padding=(1, 1), bias=False)\n",
       "      (bn2): BatchNorm2d(64, eps=1e-05, momentum=0.1, affine=True, track_running_stats=True)\n",
       "    )\n",
       "    (1): BasicBlock(\n",
       "      (conv1): Conv2d(64, 64, kernel_size=(3, 3), stride=(1, 1), padding=(1, 1), bias=False)\n",
       "      (bn1): BatchNorm2d(64, eps=1e-05, momentum=0.1, affine=True, track_running_stats=True)\n",
       "      (relu): ReLU(inplace=True)\n",
       "      (conv2): Conv2d(64, 64, kernel_size=(3, 3), stride=(1, 1), padding=(1, 1), bias=False)\n",
       "      (bn2): BatchNorm2d(64, eps=1e-05, momentum=0.1, affine=True, track_running_stats=True)\n",
       "    )\n",
       "  )\n",
       "  (layer2): Sequential(\n",
       "    (0): BasicBlock(\n",
       "      (conv1): Conv2d(64, 128, kernel_size=(3, 3), stride=(2, 2), padding=(1, 1), bias=False)\n",
       "      (bn1): BatchNorm2d(128, eps=1e-05, momentum=0.1, affine=True, track_running_stats=True)\n",
       "      (relu): ReLU(inplace=True)\n",
       "      (conv2): Conv2d(128, 128, kernel_size=(3, 3), stride=(1, 1), padding=(1, 1), bias=False)\n",
       "      (bn2): BatchNorm2d(128, eps=1e-05, momentum=0.1, affine=True, track_running_stats=True)\n",
       "      (downsample): Sequential(\n",
       "        (0): Conv2d(64, 128, kernel_size=(1, 1), stride=(2, 2), bias=False)\n",
       "        (1): BatchNorm2d(128, eps=1e-05, momentum=0.1, affine=True, track_running_stats=True)\n",
       "      )\n",
       "    )\n",
       "    (1): BasicBlock(\n",
       "      (conv1): Conv2d(128, 128, kernel_size=(3, 3), stride=(1, 1), padding=(1, 1), bias=False)\n",
       "      (bn1): BatchNorm2d(128, eps=1e-05, momentum=0.1, affine=True, track_running_stats=True)\n",
       "      (relu): ReLU(inplace=True)\n",
       "      (conv2): Conv2d(128, 128, kernel_size=(3, 3), stride=(1, 1), padding=(1, 1), bias=False)\n",
       "      (bn2): BatchNorm2d(128, eps=1e-05, momentum=0.1, affine=True, track_running_stats=True)\n",
       "    )\n",
       "  )\n",
       "  (layer3): Sequential(\n",
       "    (0): BasicBlock(\n",
       "      (conv1): Conv2d(128, 256, kernel_size=(3, 3), stride=(2, 2), padding=(1, 1), bias=False)\n",
       "      (bn1): BatchNorm2d(256, eps=1e-05, momentum=0.1, affine=True, track_running_stats=True)\n",
       "      (relu): ReLU(inplace=True)\n",
       "      (conv2): Conv2d(256, 256, kernel_size=(3, 3), stride=(1, 1), padding=(1, 1), bias=False)\n",
       "      (bn2): BatchNorm2d(256, eps=1e-05, momentum=0.1, affine=True, track_running_stats=True)\n",
       "      (downsample): Sequential(\n",
       "        (0): Conv2d(128, 256, kernel_size=(1, 1), stride=(2, 2), bias=False)\n",
       "        (1): BatchNorm2d(256, eps=1e-05, momentum=0.1, affine=True, track_running_stats=True)\n",
       "      )\n",
       "    )\n",
       "    (1): BasicBlock(\n",
       "      (conv1): Conv2d(256, 256, kernel_size=(3, 3), stride=(1, 1), padding=(1, 1), bias=False)\n",
       "      (bn1): BatchNorm2d(256, eps=1e-05, momentum=0.1, affine=True, track_running_stats=True)\n",
       "      (relu): ReLU(inplace=True)\n",
       "      (conv2): Conv2d(256, 256, kernel_size=(3, 3), stride=(1, 1), padding=(1, 1), bias=False)\n",
       "      (bn2): BatchNorm2d(256, eps=1e-05, momentum=0.1, affine=True, track_running_stats=True)\n",
       "    )\n",
       "  )\n",
       "  (layer4): Sequential(\n",
       "    (0): BasicBlock(\n",
       "      (conv1): Conv2d(256, 512, kernel_size=(3, 3), stride=(2, 2), padding=(1, 1), bias=False)\n",
       "      (bn1): BatchNorm2d(512, eps=1e-05, momentum=0.1, affine=True, track_running_stats=True)\n",
       "      (relu): ReLU(inplace=True)\n",
       "      (conv2): Conv2d(512, 512, kernel_size=(3, 3), stride=(1, 1), padding=(1, 1), bias=False)\n",
       "      (bn2): BatchNorm2d(512, eps=1e-05, momentum=0.1, affine=True, track_running_stats=True)\n",
       "      (downsample): Sequential(\n",
       "        (0): Conv2d(256, 512, kernel_size=(1, 1), stride=(2, 2), bias=False)\n",
       "        (1): BatchNorm2d(512, eps=1e-05, momentum=0.1, affine=True, track_running_stats=True)\n",
       "      )\n",
       "    )\n",
       "    (1): BasicBlock(\n",
       "      (conv1): Conv2d(512, 512, kernel_size=(3, 3), stride=(1, 1), padding=(1, 1), bias=False)\n",
       "      (bn1): BatchNorm2d(512, eps=1e-05, momentum=0.1, affine=True, track_running_stats=True)\n",
       "      (relu): ReLU(inplace=True)\n",
       "      (conv2): Conv2d(512, 512, kernel_size=(3, 3), stride=(1, 1), padding=(1, 1), bias=False)\n",
       "      (bn2): BatchNorm2d(512, eps=1e-05, momentum=0.1, affine=True, track_running_stats=True)\n",
       "    )\n",
       "  )\n",
       "  (avgpool): AdaptiveAvgPool2d(output_size=(1, 1))\n",
       "  (fc): DressedQuantumNet(\n",
       "    (pre_net): Linear(in_features=512, out_features=4, bias=True)\n",
       "    (post_net): Linear(in_features=4, out_features=2, bias=True)\n",
       "  )\n",
       ")"
      ]
     },
     "execution_count": 94,
     "metadata": {},
     "output_type": "execute_result"
    }
   ],
   "source": [
    "model_hybrid.apply(init_weights)"
   ]
  },
  {
   "cell_type": "code",
   "execution_count": 95,
   "id": "3c21611e",
   "metadata": {},
   "outputs": [],
   "source": [
    "batch_size = 16\n",
    "train_set = Cancerclass(data_train,'kaggle-cancer-dataset',\"train\",transforms.Compose(\n",
    "    [transforms.ToTensor()]))\n",
    "train_loader = torch.utils.data.DataLoader(train_set,batch_size=batch_size,shuffle=True)\n",
    "\n",
    "test_set = Cancerclass(data_val, 'kaggle-cancer-dataset',\"train\", transforms.Compose([transforms.ToTensor()]))\n",
    "test_loader = torch.utils.data.DataLoader(test_set,batch_size=batch_size, shuffle=False)"
   ]
  },
  {
   "cell_type": "code",
   "execution_count": 96,
   "id": "61fb213a",
   "metadata": {},
   "outputs": [],
   "source": [
    "import torch.optim as optim\n",
    "import torch.nn as nn\n",
    "from torch.optim import lr_scheduler\n",
    "loss_fn = nn.CrossEntropyLoss()\n",
    "opt = optim.Adam(model_hybrid.parameters(),lr=1E-5)\n",
    "exp_lr_scheduler = lr_scheduler.StepLR(\n",
    "    opt, step_size=10, gamma=gamma_lr_scheduler\n",
    ")"
   ]
  },
  {
   "cell_type": "code",
   "execution_count": 97,
   "id": "e6c5dd09",
   "metadata": {},
   "outputs": [],
   "source": [
    "def evaluation(dataloader,model):\n",
    "    with torch.no_grad():\n",
    "        total,correct = 0,0\n",
    "        for data in dataloader:\n",
    "            inputs,labels = data\n",
    "            inputs,labels = inputs.to(device),labels.to(device)\n",
    "            outputs = model(inputs)\n",
    "            _,pred = torch.max(outputs.data,1) \n",
    "            total += labels.size(0)\n",
    "            correct += (pred==labels).sum().item()\n",
    "\n",
    "        return 100*correct/total"
   ]
  },
  {
   "cell_type": "code",
   "execution_count": 98,
   "id": "fa493279",
   "metadata": {},
   "outputs": [],
   "source": [
    "loss_arr = []\n",
    "epoch_loss_arr = []\n",
    "epoch_acc = []\n",
    "import copy\n",
    "def train_model(model, criterion, optimizer, scheduler, num_epochs):\n",
    "    since = time.time()\n",
    "    best_model_wts = copy.deepcopy(model.state_dict())\n",
    "    print(\"Training started:\")\n",
    "    for epoch in range(num_epochs):\n",
    "        model.train()\n",
    "        for i, data in enumerate(train_loader,0):\n",
    "            print(i)\n",
    "            inputs, labels = data\n",
    "            batch_size_ = len(inputs)\n",
    "            inputs = inputs.to(device)\n",
    "            labels = labels.to(device)\n",
    "            optimizer.zero_grad()\n",
    "\n",
    "            outputs = model(inputs)\n",
    "            _, preds = torch.max(outputs, 1)\n",
    "            loss = criterion(outputs, labels)\n",
    "            loss.backward()\n",
    "            optimizer.step()\n",
    "            loss_arr.append(loss.item())\n",
    "        \n",
    "\n",
    "        epoch_loss_arr.append(loss.item())\n",
    "        epoch_acc.append(evaluation(train_loader,model))\n",
    "        print(model.fc.q_params)\n",
    "        print(\n",
    "                    \"Epoch: {}/{} Train Loss: {:.4f} Train Acc: {:.4f} Val Acc: {:.4f} \".format(\n",
    "                        epoch,\n",
    "                        num_epochs,\n",
    "                        epoch_loss_arr[-1],\n",
    "                        epoch_acc[-1],\n",
    "                        evaluation(val_loader,model)\n",
    "                    )\n",
    "                )\n",
    "        PATH = '/content/' + 'model_' + str(epoch) + '.pt'\n",
    "        torch.save({\n",
    "                'epoch': epoch,\n",
    "                'model_state_dict': model.state_dict(),\n",
    "                'optimizer_state_dict': opt.state_dict(),\n",
    "                'loss': loss.item(),\n",
    "                }, PATH)\n",
    "          #best_model_wts = copy.deepcopy(model.state_dict())\n",
    "          # Update learning rate\n",
    "        scheduler.step()\n",
    "      #model.load_state_dict(best_model_wts)\n",
    "       \n",
    "    # Print final results\n",
    "    return model"
   ]
  },
  {
   "cell_type": "code",
   "execution_count": null,
   "id": "53d670f4",
   "metadata": {},
   "outputs": [
    {
     "name": "stdout",
     "output_type": "stream",
     "text": [
      "Training started:\n",
      "0\n"
     ]
    }
   ],
   "source": [
    "model_hybrid = train_model(\n",
    "    model_hybrid, loss_fn, opt, exp_lr_scheduler, num_epochs=25\n",
    ")\n",
    "\n",
    "plt.plot(epoch_loss_arr)\n",
    "plt.show()"
   ]
  },
  {
   "cell_type": "code",
   "execution_count": null,
   "id": "9b27b660",
   "metadata": {},
   "outputs": [],
   "source": [
    "# from tqdm import tqdm\n",
    "# import matplotlib.pyplot as plt\n",
    "# loss_arr = []\n",
    "# loss_epoch_arr = []\n",
    "# max_epochs = 25\n",
    "\n",
    "# for epoch in tqdm(range(max_epochs)):\n",
    "#     for i, data in enumerate(train_loader,0):\n",
    "#         inputs, labels = data\n",
    "#         inputs,labels = inputs.to(device),labels.to(device)\n",
    "#         opt.zero_grad()\n",
    "\n",
    "#         outputs = model(inputs)\n",
    "#         _,pred_labels = torch.max(outputs.data,1)\n",
    "#         loss = loss_fn(outputs,labels)\n",
    "#         loss.backward()\n",
    "#         opt.step()\n",
    "#         del inputs,labels\n",
    "\n",
    "#         loss_arr.append(loss.item())\n",
    "\n",
    "# #     PATH = '/content/' + 'model_' + str(epoch) + '.pt'\n",
    "  \n",
    "  \n",
    "#     loss_epoch_arr.append(loss.item())\n",
    "#     print('Epoch = %d/%d, Train Acc: %0.2f, Test Acc: %0.2f '%(epoch,max_epochs,evaluation(train_loader),\n",
    "#         evaluation(test_loader)))\n",
    "# #     torch.save({\n",
    "# #             'epoch': epoch,\n",
    "# #             'model_state_dict': model.state_dict(),\n",
    "# #             'optimizer_state_dict': opt.state_dict(),\n",
    "# #             'loss': loss.item(),\n",
    "# #             }, PATH)\n",
    "\n",
    "\n",
    "# plt.plot(loss_epoch_arr)\n",
    "# plt.show()"
   ]
  },
  {
   "cell_type": "code",
   "execution_count": null,
   "id": "95cc280e",
   "metadata": {},
   "outputs": [],
   "source": [
    "# import sagemaker\n",
    "# from sagemaker.debugger import Rule, rule_configs\n",
    "# from sagemaker.session import TrainingInput\n",
    "\n",
    "# region = sagemaker.Session().boto_region_name\n",
    "# print(\"AWS Region: {}\".format(region))\n",
    "\n",
    "# role = sagemaker.get_execution_role()\n",
    "# print(\"RoleArn: {}\".format(role))\n",
    "\n",
    "# s3_output_location='s3://{}/{}/{}'.format('kaggle-cancer-dataset', 'models', 'xgboost_model')\n",
    "\n",
    "# container=sagemaker.image_uris.retrieve(\"xgboost\", region, \"1.2-1\")\n",
    "# print(container)\n",
    "\n",
    "# xgb_model=sagemaker.estimator.Estimator(\n",
    "#     image_uri=container,\n",
    "#     role=role,\n",
    "#     instance_count=1,\n",
    "#     instance_type='ml.m4.xlarge',\n",
    "#     volume_size=5,\n",
    "#     output_path=s3_output_location,\n",
    "#     sagemaker_session=sagemaker.Session(),\n",
    "#     rules=[Rule.sagemaker(rule_configs.create_xgboost_report())]\n",
    "# )"
   ]
  },
  {
   "cell_type": "code",
   "execution_count": null,
   "id": "05c90415",
   "metadata": {},
   "outputs": [],
   "source": [
    "# xgb_model.set_hyperparameters(\n",
    "#     max_depth = 5,\n",
    "#     eta = 0.2,\n",
    "#     gamma = 4,\n",
    "#     min_child_weight = 6,\n",
    "#     subsample = 0.7,\n",
    "#     objective = \"binary:logistic\",\n",
    "#     num_round = 1000\n",
    "# )"
   ]
  },
  {
   "cell_type": "code",
   "execution_count": null,
   "id": "29efee7e",
   "metadata": {},
   "outputs": [],
   "source": [
    "# from sagemaker.session import TrainingInput\n",
    "\n",
    "# train_input = TrainingInput(\n",
    "#     \"s3://{}/{}\".format('kaggle-cancer-dataset', \"train_data_new.csv\"), content_type=\"csv\"\n",
    "# )\n",
    "# validation_input = TrainingInput(\n",
    "#     \"s3://{}/{}\".format('kaggle-cancer-dataset',\"val_data_new.csv\"), content_type=\"csv\"\n",
    "# )"
   ]
  },
  {
   "cell_type": "code",
   "execution_count": null,
   "id": "32ff0230",
   "metadata": {},
   "outputs": [],
   "source": [
    "# xgb_model.fit({\"train\": train_input, \"validation\": validation_input}, wait=True)"
   ]
  }
 ],
 "metadata": {
  "kernelspec": {
   "display_name": "conda_braket",
   "language": "python",
   "name": "conda_braket"
  },
  "language_info": {
   "codemirror_mode": {
    "name": "ipython",
    "version": 3
   },
   "file_extension": ".py",
   "mimetype": "text/x-python",
   "name": "python",
   "nbconvert_exporter": "python",
   "pygments_lexer": "ipython3",
   "version": "3.7.12"
  }
 },
 "nbformat": 4,
 "nbformat_minor": 5
}
